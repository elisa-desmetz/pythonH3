{
 "cells": [
  {
   "cell_type": "markdown",
   "metadata": {},
   "source": [
    "# Exercices Algorithmique\n",
    "## Bases\n",
    "### Simple Echange"
   ]
  },
  {
   "cell_type": "code",
   "execution_count": 5,
   "metadata": {},
   "outputs": [
    {
     "data": {
      "text/plain": [
       "(3, 2)"
      ]
     },
     "execution_count": 5,
     "metadata": {},
     "output_type": "execute_result"
    }
   ],
   "source": [
    "a=2\n",
    "b=3\n",
    "c=0\n",
    "\n",
    "c=a\n",
    "a=b\n",
    "b=c\n",
    "\n",
    "a,b"
   ]
  },
  {
   "cell_type": "markdown",
   "metadata": {},
   "source": [
    "### Le carré"
   ]
  },
  {
   "cell_type": "code",
   "execution_count": 22,
   "metadata": {},
   "outputs": [
    {
     "name": "stdout",
     "output_type": "stream",
     "text": [
      "Entrez une valeur numérique : 3\n"
     ]
    },
    {
     "data": {
      "text/plain": [
       "9"
      ]
     },
     "execution_count": 22,
     "metadata": {},
     "output_type": "execute_result"
    }
   ],
   "source": [
    "a=int(input(\"Entrez une valeur numérique : \"))\n",
    "a**2"
   ]
  },
  {
   "cell_type": "markdown",
   "metadata": {},
   "source": [
    "### La condition"
   ]
  },
  {
   "cell_type": "code",
   "execution_count": 3,
   "metadata": {},
   "outputs": [
    {
     "name": "stdout",
     "output_type": "stream",
     "text": [
      "Entrez une valeur numérique : 2\n",
      "La valeur est positive\n"
     ]
    }
   ],
   "source": [
    "a=int(input(\"Entrez une valeur numérique : \"))\n",
    "if a>=0 :\n",
    "    print(\"La valeur est positive\")\n",
    "else :\n",
    "    print(\"La valeur est négative\")"
   ]
  },
  {
   "cell_type": "markdown",
   "metadata": {},
   "source": [
    "### Le produit"
   ]
  },
  {
   "cell_type": "code",
   "execution_count": 24,
   "metadata": {},
   "outputs": [
    {
     "name": "stdout",
     "output_type": "stream",
     "text": [
      "Entrez une valeur numérique : -3\n",
      "Entrez une valeur numérique : 2\n",
      "Le produit est négatif\n"
     ]
    }
   ],
   "source": [
    "a=int(input(\"Entrez une valeur numérique : \"))\n",
    "b=int(input(\"Entrez une valeur numérique : \"))\n",
    "\n",
    "if a*b>0:\n",
    "    print(\"Le produit est positif\")\n",
    "else:\n",
    "    print(\"Le produit est négatif\")"
   ]
  },
  {
   "cell_type": "markdown",
   "metadata": {},
   "source": [
    "### Calcul"
   ]
  },
  {
   "cell_type": "code",
   "execution_count": 25,
   "metadata": {},
   "outputs": [
    {
     "name": "stdout",
     "output_type": "stream",
     "text": [
      "Entrez une valeur numérique : 2\n",
      "3\n",
      "4\n",
      "5\n",
      "6\n",
      "7\n",
      "8\n",
      "9\n",
      "10\n",
      "11\n",
      "12\n"
     ]
    }
   ],
   "source": [
    "a=int(input(\"Entrez une valeur numérique : \"))\n",
    "\n",
    "for i in range (1,11):\n",
    "    print(a+i)"
   ]
  },
  {
   "cell_type": "markdown",
   "metadata": {},
   "source": [
    "### Additivité"
   ]
  },
  {
   "cell_type": "code",
   "execution_count": 27,
   "metadata": {},
   "outputs": [
    {
     "name": "stdout",
     "output_type": "stream",
     "text": [
      "Entrez une valeur numérique : 3\n"
     ]
    },
    {
     "data": {
      "text/plain": [
       "6"
      ]
     },
     "execution_count": 27,
     "metadata": {},
     "output_type": "execute_result"
    }
   ],
   "source": [
    "a=int(input(\"Entrez une valeur numérique : \"))\n",
    "s=0\n",
    "\n",
    "for i in range (1,a+1):\n",
    "    s=s+i\n",
    "s"
   ]
  },
  {
   "cell_type": "markdown",
   "metadata": {},
   "source": [
    "***Bonus :*** *Manipuler les print*"
   ]
  },
  {
   "cell_type": "code",
   "execution_count": 4,
   "metadata": {},
   "outputs": [
    {
     "name": "stdout",
     "output_type": "stream",
     "text": [
      "Salut Toto, tu as 13 ans.\n"
     ]
    }
   ],
   "source": [
    "s=\"Toto\"\n",
    "a=13\n",
    "print(\"Salut {}, tu as {} ans.\".format(s,a))"
   ]
  },
  {
   "cell_type": "markdown",
   "metadata": {},
   "source": [
    "## Les tableaux\n",
    "### La somme"
   ]
  },
  {
   "cell_type": "code",
   "execution_count": 8,
   "metadata": {},
   "outputs": [
    {
     "name": "stdout",
     "output_type": "stream",
     "text": [
      "Quelle est la longueur du tableau ? 5\n",
      "La somme des éléments de la table [0, 1, 2, 3, 4] vaut 10.\n"
     ]
    }
   ],
   "source": [
    "n=int(input(\"Quelle est la longueur du tableau ? \"))\n",
    "tab=[x for x in range(n)]\n",
    "\n",
    "print(\"La somme des éléments de la table {} vaut {}.\".format(tab,sum(tab)))"
   ]
  },
  {
   "cell_type": "markdown",
   "metadata": {},
   "source": [
    "### La somme : retour"
   ]
  },
  {
   "cell_type": "code",
   "execution_count": 17,
   "metadata": {},
   "outputs": [
    {
     "name": "stdout",
     "output_type": "stream",
     "text": [
      "Quelle est la longueur des tableaux ? 6\n",
      "Le tableau [5, 5, 5, 5, 5, 5] est constitué de la somme des éléments des tableaux [0, 1, 2, 3, 4, 5] et [5, 4, 3, 2, 1, 0].\n"
     ]
    }
   ],
   "source": [
    "n=int(input(\"Quelle est la longueur des tableaux ? \"))\n",
    "tab1=[x for x in range(n)]\n",
    "tab2=tab1[::-1]\n",
    "tab3=[]\n",
    "\n",
    "for i in range(n):\n",
    "    tab3.append(tab1[i]+tab2[i])\n",
    "\n",
    "print(\"Le tableau {} est constitué de la somme des éléments des tableaux {} et {}.\".format(tab3,tab1,tab2))"
   ]
  },
  {
   "cell_type": "markdown",
   "metadata": {},
   "source": [
    "### FacProduct"
   ]
  },
  {
   "cell_type": "code",
   "execution_count": 19,
   "metadata": {},
   "outputs": [
    {
     "name": "stdout",
     "output_type": "stream",
     "text": [
      "Quelle est la longueur des tableaux ? 5\n",
      "Le FacProduct des tableaux [0, 1, 2, 3, 4] et [4, 3, 2, 1, 0] vaut 10.\n"
     ]
    }
   ],
   "source": [
    "n=int(input(\"Quelle est la longueur des tableaux ? \"))\n",
    "tab1=[x for x in range(n)]\n",
    "tab2=tab1[::-1]\n",
    "FacProduct=0\n",
    "\n",
    "for i in range (n):\n",
    "    FacProduct+=tab1[i]*tab2[i]\n",
    "\n",
    "print(\"Le FacProduct des tableaux {} et {} vaut {}.\".format(tab1,tab2,FacProduct))"
   ]
  },
  {
   "cell_type": "markdown",
   "metadata": {},
   "source": [
    "### Le plus grand"
   ]
  },
  {
   "cell_type": "code",
   "execution_count": null,
   "metadata": {},
   "outputs": [],
   "source": []
  }
 ],
 "metadata": {
  "kernelspec": {
   "display_name": "Python 3",
   "language": "python",
   "name": "python3"
  },
  "language_info": {
   "codemirror_mode": {
    "name": "ipython",
    "version": 3
   },
   "file_extension": ".py",
   "mimetype": "text/x-python",
   "name": "python",
   "nbconvert_exporter": "python",
   "pygments_lexer": "ipython3",
   "version": "3.8.0"
  },
  "toc": {
   "base_numbering": 1,
   "nav_menu": {},
   "number_sections": true,
   "sideBar": true,
   "skip_h1_title": true,
   "title_cell": "Table of Contents",
   "title_sidebar": "Contents",
   "toc_cell": false,
   "toc_position": {},
   "toc_section_display": true,
   "toc_window_display": true
  },
  "varInspector": {
   "cols": {
    "lenName": 16,
    "lenType": 16,
    "lenVar": 40
   },
   "kernels_config": {
    "python": {
     "delete_cmd_postfix": "",
     "delete_cmd_prefix": "del ",
     "library": "var_list.py",
     "varRefreshCmd": "print(var_dic_list())"
    },
    "r": {
     "delete_cmd_postfix": ") ",
     "delete_cmd_prefix": "rm(",
     "library": "var_list.r",
     "varRefreshCmd": "cat(var_dic_list()) "
    }
   },
   "types_to_exclude": [
    "module",
    "function",
    "builtin_function_or_method",
    "instance",
    "_Feature"
   ],
   "window_display": false
  }
 },
 "nbformat": 4,
 "nbformat_minor": 4
}
