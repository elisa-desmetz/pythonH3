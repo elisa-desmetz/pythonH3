{
 "cells": [
  {
   "cell_type": "code",
   "execution_count": 2,
   "metadata": {},
   "outputs": [],
   "source": [
    "import pandas as pd"
   ]
  },
  {
   "cell_type": "code",
   "execution_count": 3,
   "metadata": {},
   "outputs": [],
   "source": [
    "class DataHandling:\n",
    "    \n",
    "    def __init__(self):\n",
    "        self.data_price = None\n",
    "        self.data_listing = None\n",
    "        self.data_merge = None\n",
    "    \n",
    "    def get_data(self):\n",
    "        self.data_price = pd.read_csv('https://storage.googleapis.com/h3-data/price_availability.csv', sep=';')\n",
    "        self.data_listing = pd.read_csv('https://storage.googleapis.com/h3-data/listings_final.csv', sep=';')\n",
    "    \n",
    "    def group_data(self):\n",
    "        data_price_group=self.data_price.groupby('listing_id')['local_price'].mean()\n",
    "        self.data_merge=pd.merge(data_price_group, self.data_listing, on='listing_id')\n",
    "    \n",
    "    def get_process_data(self):\n",
    "        self.get_data()\n",
    "        self.group_data()   "
   ]
  },
  {
   "cell_type": "code",
   "execution_count": 4,
   "metadata": {},
   "outputs": [],
   "source": [
    "d = DataHandling()\n",
    "d.get_process_data()"
   ]
  },
  {
   "cell_type": "code",
   "execution_count": null,
   "metadata": {},
   "outputs": [],
   "source": [
    "class FeatureRecipe :\n",
    "    \n",
    "    def __init__(self):\n",
    "        self.data = data\n",
    "        self.categorical = []\n",
    "        self.discrete = []\n",
    "        self.continuous = []\n",
    "    \n",
    "    def drop_useless_feature(self) :\n",
    "        # Drop useless columns\n",
    "        cols=['Unnamed: 0','name', 'latitude','longitude', 'is_rebookable', 'is_new_listing','princing_weekly_factor']\n",
    "        self.data.drop(columns=cols, inplace=True)\n",
    "        for col in self.data.columns:\n",
    "            if self.data[col].isna().sum()=self.data.shape[0]:\n",
    "                self.data.drop(columns=col, inplace=True)\n",
    "\n",
    "    def drop_duplicate(self) :\n",
    "        def get_duplicate(df:pd.DataFrame): \n",
    "              # Create an empty set \n",
    "            duplicateColumnNames = set() \n",
    "      \n",
    "            # Iterate through all the columns  \n",
    "            # of dataframe \n",
    "            for x in range(df.shape[1]): \n",
    "          \n",
    "                # Take column at xth index. \n",
    "                col = df.iloc[:, x] \n",
    "          \n",
    "                # Iterate through all the columns in \n",
    "                # DataFrame from (x + 1)th index to \n",
    "                # last index \n",
    "                for y in range(x + 1, df.shape[1]): \n",
    "              \n",
    "                    # Take column at yth index. \n",
    "                    otherCol = df.iloc[:, y] \n",
    "              \n",
    "                    # Check if two columns at x & y \n",
    "                    # index are equal or not, \n",
    "                    # if equal then adding  \n",
    "                    # to the set \n",
    "                    if col.equals(otherCol): \n",
    "                            duplicateColumnNames.add(df.columns.values[y]) \n",
    "                  \n",
    "            # Return list of unique column names  \n",
    "            # whose contents are duplicates. \n",
    "            return list(duplicateColumnNames) \n",
    "        self.data = self.data.drop(get_duplicate(self.data), axis=1)\n",
    "   \n",
    "    def drop_na_pourcentage(self, threshold:float) :\n",
    "        def get_na(df:pd.DataFrame, threshold: float):\n",
    "            for column in self.data.columns:\n",
    "                if ((self.data[column].isna().sum() / self.data.shape[0]) * 100)>threshold :\n",
    "                    dropped_cols[column]=self.data[column]\n",
    "            return dropped_cols\n",
    "        col_to_drop=get_na(self.data, thresold).columns\n",
    "        self.data.drop(columns=col_to_drop, inplace=True)\n",
    "        \n",
    "    def separate_variable_type(self):\n",
    "        # renvoie 3 listes de nom des colonnes : quanti_continue, quanti_discrete, quali_categoriel\n",
    "        # memo : quanti_continue + quanti_discrete + quali_categoriel = data\n",
    "        # quali_categoriel = object\n",
    "        # quanti_discrete = int \n",
    "        # quanti_continue = float\n",
    "        for col in self.data.columns:\n",
    "            if self.data[col].dtypes\n",
    "        \n",
    "    def prepare_data(self, threshold:float):\n",
    "        drop_useless_feature()\n",
    "        drop_duplicate()\n",
    "        drop_na_pourcentage()\n",
    "        separate_variable_type()\n",
    "    \n",
    "        \n",
    "        \n",
    "\n",
    "        \n",
    "\n",
    "        \n",
    "        "
   ]
  },
  {
   "cell_type": "code",
   "execution_count": 6,
   "metadata": {},
   "outputs": [
    {
     "name": "stdout",
     "output_type": "stream",
     "text": [
      "None\n"
     ]
    }
   ],
   "source": [
    "print(d.get_process_data())"
   ]
  },
  {
   "cell_type": "code",
   "execution_count": null,
   "metadata": {},
   "outputs": [],
   "source": []
  }
 ],
 "metadata": {
  "kernelspec": {
   "display_name": "Python 3",
   "language": "python",
   "name": "python3"
  },
  "language_info": {
   "codemirror_mode": {
    "name": "ipython",
    "version": 3
   },
   "file_extension": ".py",
   "mimetype": "text/x-python",
   "name": "python",
   "nbconvert_exporter": "python",
   "pygments_lexer": "ipython3",
   "version": "3.8.5"
  }
 },
 "nbformat": 4,
 "nbformat_minor": 4
}
