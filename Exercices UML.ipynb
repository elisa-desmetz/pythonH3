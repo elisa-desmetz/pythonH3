{
 "cells": [
  {
   "cell_type": "markdown",
   "metadata": {},
   "source": [
    "# Exercices de POO\n",
    "\n",
    "\n",
    "#### Le compte bancaire\n",
    "\n",
    "Écrire un programme python qui permet de définir une classe CompteBancaire(), qui permette d’instancier des objets tels que compte1, compte2, etc. Le constructeur de cette classe initialisera deux attributs d’instance nom et solde, avec les valeurs par défaut ’Dupont’ et 1000.\n",
    "\n",
    "Trois autres méthodes seront définies :\n",
    "\n",
    "- depot(somme) permettra d’ajouter une certaine somme au solde ;\n",
    "- retrait(somme) permettra de retirer une certaine somme du solde ;\n",
    "- affiche() permettra d’afficher le nom du titulaire et le solde de son compte.\n",
    "\n",
    "\n",
    "Exemples d’exécution:\n",
    "```\n",
    ">>> compte1 = CompteBancaire(‘Duchmol’, 800)\n",
    ">>> compte1.depot(350)\n",
    ">>> compte1.retrait(200)\n",
    ">>> compte1.affiche()\n",
    "Le solde du compte bancaire de Duchmol est de 950 euros.\n",
    ">>> compte2 = CompteBancaire()\n",
    ">>> compte2.depot(25)\n",
    ">>> compte2.affiche()\n",
    "Le solde du compte bancaire de Dupont est de 1025 euros.\n",
    "\n",
    "```"
   ]
  },
  {
   "cell_type": "code",
   "execution_count": 10,
   "metadata": {},
   "outputs": [],
   "source": [
    "class CompteBancaire :\n",
    "    def __init__(self,nom='Dupont',solde=1000) :\n",
    "        self.nom=nom\n",
    "        self.solde=solde\n",
    "    def depot(self, somme) :\n",
    "        self.solde+=somme\n",
    "    def retrait(self,somme):\n",
    "        self.solde-=somme\n",
    "    def affiche(self):\n",
    "        return \"Le solde du compte bancaire de {} est de {} euros.\".format(self.nom,self.solde)"
   ]
  },
  {
   "cell_type": "code",
   "execution_count": 11,
   "metadata": {},
   "outputs": [
    {
     "data": {
      "text/plain": [
       "'Le solde du compte bancaire de Duchmol est de 950 euros.'"
      ]
     },
     "execution_count": 11,
     "metadata": {},
     "output_type": "execute_result"
    }
   ],
   "source": [
    "compte1=CompteBancaire('Duchmol',800)\n",
    "compte1.depot(350)\n",
    "compte1.retrait(200)\n",
    "compte1.affiche()"
   ]
  },
  {
   "cell_type": "code",
   "execution_count": 12,
   "metadata": {},
   "outputs": [
    {
     "data": {
      "text/plain": [
       "'Le solde du compte bancaire de Dupont est de 1025 euros.'"
      ]
     },
     "execution_count": 12,
     "metadata": {},
     "output_type": "execute_result"
    }
   ],
   "source": [
    "compte2=CompteBancaire()\n",
    "compte2.depot(25)\n",
    "compte2.affiche()"
   ]
  },
  {
   "cell_type": "markdown",
   "metadata": {},
   "source": [
    "#### La surcharge d'opérateur \n",
    "\n",
    "Définir une classe Point avec un constructeur, un point est définit soit par deux coordonnées x et y, s’il s’agit d’une représentation d’un point au plan ou par trois coordonnées x, y et z, s’il s’agit d’une représentation d’un point en espace.\n",
    "\n",
    "La classe Point doit contenir une méthode ToString qui affiche le point.\n",
    "\n",
    "Exemple d’exécution:\n",
    "```\n",
    ">>>P1=Point(2,3)\n",
    ">>>P1.ToString()\n",
    "P(2.00 , 3.00)\n",
    ">>>P2=Point(1,-5,6)\n",
    ">>>P2.ToString()\n",
    "P(1.00 , -5.00 , 6.00)\n",
    "```"
   ]
  },
  {
   "cell_type": "code",
   "execution_count": 48,
   "metadata": {},
   "outputs": [],
   "source": [
    "class Point :\n",
    "    def __init__(self,x,y,z=None) :\n",
    "        self.x=x\n",
    "        self.y=y\n",
    "        self.z=z\n",
    "    def ToString(self):\n",
    "        if self.z==None :\n",
    "            return \"P({:.2f}, {:.2f})\".format(self.x,self.y)\n",
    "        else :\n",
    "            return \"P({:.2f}, {:.2f}, {:.2f})\".format(self.x, self.y, self.z)"
   ]
  },
  {
   "cell_type": "code",
   "execution_count": 46,
   "metadata": {},
   "outputs": [
    {
     "data": {
      "text/plain": [
       "'P(2.00, 3.00)'"
      ]
     },
     "execution_count": 46,
     "metadata": {},
     "output_type": "execute_result"
    }
   ],
   "source": [
    "P1=Point(2,3)\n",
    "P1.ToString()"
   ]
  },
  {
   "cell_type": "code",
   "execution_count": 49,
   "metadata": {
    "scrolled": true
   },
   "outputs": [
    {
     "data": {
      "text/plain": [
       "'P(1.00, -5.00, 6.00)'"
      ]
     },
     "execution_count": 49,
     "metadata": {},
     "output_type": "execute_result"
    }
   ],
   "source": [
    "P2=Point(1,-5,6)\n",
    "P2.ToString()"
   ]
  },
  {
   "cell_type": "markdown",
   "metadata": {},
   "source": [
    "#### L'héritage simple\n",
    "\n",
    "Définir les classes suivantes:\n",
    "\n",
    "- Une classe DateNaissance avec trois attributs, jour, mois, année et une méthode ToString qui convertit la date de naissance en chaine de caractères\n",
    "- Une classe Personne  avec trois attributs, nom, prénom et date de naissance et une méthode polymorphe Afficher pour afficher les données de chaque personne.\n",
    "- Une classe Employé qui dérive de la classe Personne, avec en plus un attribut Salaire et la redéfinition de la méthode Afficher.\n",
    "- Une classe Chef qui dérive de la classe Employé, avec en plus un attribut Service et la redéfinition de la méthode Afficher.\n",
    "\n",
    "Exemple d’exécution:\n",
    "\n",
    "```\n",
    ">>>P=personne(“Ilyass”,”Math”,DateNaissance(1,7,1982))\n",
    ">>>P.afficher()\n",
    "Nom: Ilyass \n",
    "Prénom: Math\n",
    "Date de naissance: 01 / 07 / 1982\n",
    "\n",
    ">>>E=employe(“Ilyass”,”Math”,DateNaissance(1,7,1985),7865.548)\n",
    ">>>E.afficher()\n",
    "Nom: Ilyass \n",
    "Prénom: Math\n",
    "Date de naissance: 01 / 07 / 1985\n",
    "Salaire: 7865.55\n",
    "\n",
    ">>>Ch=chef(“Ilyass”,”Math”,DateNaissance(1,7,1988),7865.548,”Ressource humaine”)\n",
    ">>>Ch.afficher()\n",
    "Nom: Ilyass \n",
    "Prénom: Math\n",
    "Date de naissance: 01 / 07 / 1988\n",
    "Salaire: 7865.55\n",
    "Service: Ressource humaine\n",
    "```"
   ]
  },
  {
   "cell_type": "code",
   "execution_count": 71,
   "metadata": {},
   "outputs": [],
   "source": [
    "class DateNaissance :\n",
    "    def __init__ (self, jour, mois, annee):\n",
    "        self.jour = jour\n",
    "        self.mois = mois\n",
    "        self.annee = annee\n",
    "    def ToString(self):\n",
    "        return \"Date de naissance: {:0>2d} / {:0>2d} / {:0>4d}\".format(self.jour, self.mois, self.annee)\n",
    "\n",
    "class Personne :\n",
    "    def __init__ (self,nom,prenom,dateDeNaissance) :\n",
    "        self.nom=nom\n",
    "        self.prenom=prenom\n",
    "        self.dateDeNaissance=dateDeNaissance\n",
    "    def afficher(self):\n",
    "        print(\"Nom: {}\".format(self.nom))\n",
    "        print(\"Prénom: {}\".format(self.prenom))\n",
    "        print (self.dateDeNaissance.ToString())\n",
    "\n",
    "class Employe(Personne):\n",
    "    def __init__(self, nom, prenom, dateDeNaissance, salaire):\n",
    "        super().__init__(nom,prenom,dateDeNaissance)\n",
    "        self.salaire=salaire\n",
    "    def afficher(self):\n",
    "        super().afficher()\n",
    "        print(\"Salaire: {:.2f}\".format(self.salaire))\n",
    "\n",
    "class Chef(Employe):\n",
    "    def __init__(self, nom, prenom, dateDeNaissance, salaire, service):\n",
    "        super().__init__(nom, prenom, dateDeNaissance, salaire)\n",
    "        self.service=service\n",
    "    def afficher(self):\n",
    "        super().afficher()\n",
    "        print(\"Service: {}\".format(self.service))"
   ]
  },
  {
   "cell_type": "code",
   "execution_count": 59,
   "metadata": {
    "scrolled": true
   },
   "outputs": [
    {
     "name": "stdout",
     "output_type": "stream",
     "text": [
      "Nom: Ilyass\n",
      "Prénom: Math\n",
      "Date de naissance: 01 / 07 / 1982\n"
     ]
    }
   ],
   "source": [
    "P=Personne(\"Ilyass\",\"Math\",DateNaissance(1,7,1982))\n",
    "P.afficher()"
   ]
  },
  {
   "cell_type": "code",
   "execution_count": 73,
   "metadata": {},
   "outputs": [
    {
     "name": "stdout",
     "output_type": "stream",
     "text": [
      "Nom: Ilyass\n",
      "Prénom: Math\n",
      "Date de naissance: 01 / 07 / 1985\n",
      "Salaire: 7865.55\n"
     ]
    }
   ],
   "source": [
    "E=Employe(\"Ilyass\",\"Math\",DateNaissance(1,7,1985),7865.548)\n",
    "E.afficher()"
   ]
  },
  {
   "cell_type": "code",
   "execution_count": 74,
   "metadata": {},
   "outputs": [
    {
     "name": "stdout",
     "output_type": "stream",
     "text": [
      "Nom: Ilyass\n",
      "Prénom: Math\n",
      "Date de naissance: 01 / 07 / 1988\n",
      "Salaire: 7865.55\n",
      "Service: Ressources Humaines\n"
     ]
    }
   ],
   "source": [
    "Ch=Chef(\"Ilyass\",\"Math\",DateNaissance(1,7,1988),7865.548,\"Ressources Humaines\")\n",
    "Ch.afficher()"
   ]
  },
  {
   "cell_type": "markdown",
   "metadata": {},
   "source": [
    "#### Le polymorphisme\n",
    "\n",
    "Une boîtes aux lettres recueille des courrier qui peuvent être des lettres ou des colis.\n",
    "\n",
    "Une lettre est caractérisée par :\n",
    "\n",
    "son poids (en grammes)\n",
    "le mode d’expédition (express ou normal)\n",
    "son adresse de destination\n",
    "son adresse d’expédition\n",
    "son format (“A3” ou “A4”)\n",
    "\n",
    "Un colis est caractérisé par :\n",
    "\n",
    "son poids (en grammes)\n",
    "le mode d’expédition (express ou normal)\n",
    "son adresse de destination\n",
    "son adresse d’expédition\n",
    "son volume (en litres )\n",
    "\n",
    "Il faut donc définir aussi les deux méthodes:\n",
    "\n",
    "calculTimbre: qui calcule le prix du Timbre\n",
    "ToString qui affiche un courrier\n",
    "\n",
    "Règles pour calculer le prix du Timbre :\n",
    "\n",
    "en mode d’expédition normal :\n",
    "\n",
    "Le montant nécessaire pour affranchir une lettre dépend de son format et de son poids : Formule : montant = tarif de base + 1.0 * poids (kilos), où le tarif de base pour une lettre “A4” est de 2.50, et 3.50 pour une lettre “A3”\n",
    "\n",
    "Le montant nécessaire pour affranchir un colis dépend de son poids et de son volume : Formule : montant = 0.25 volume (litres) + poids (kilos) 1.0\n",
    "\n",
    "en mode d’expédition express : les montants précédents sont doublés, quelque soit le type de courrier\n",
    "\n",
    "##### Exemple d’exécution :\n",
    "```\n",
    ">>>L1=Lettre(“Lille”,”Paris”,80,”normal”,”A4″)\n",
    ">>>L1.ToString()\n",
    "Lettre:\n",
    "Adresse destination: Lille \n",
    "Adress expedition: Paris\n",
    "Poids: 80.00 grammes\n",
    "Mode: normal \n",
    "Format:A4\n",
    "Prix du timbre:0.20\n",
    ">>>C1=Colis(“Marrakeche”,”Barcelone “,3500,”expresse”,2.25)\n",
    ">>>C1.ToString()\n",
    "Collis:\n",
    "Adresse destination: Marrakeche \n",
    "Adress expedition: Barcelone \n",
    "Poids: 3500.00 grammes\n",
    "Mode: expresse \n",
    "Volume: 2.25 litres\n",
    "Prix du timbre:3937.50\n",
    "```"
   ]
  },
  {
   "cell_type": "code",
   "execution_count": null,
   "metadata": {},
   "outputs": [],
   "source": [
    "class Lettre():\n",
    "    def __init__(self,destination,expedition,poids,modeLivraison,formatCourrier):\n",
    "        self.destination=destination\n",
    "        self.expedition=expedition\n",
    "        self.poids=poids\n",
    "        self.modeLivraison=modeLivraison\n",
    "        self.formatCourrier=formatCourrier\n",
    "    def prixLivraison(self):\n",
    "        if self.formatCourrier==\"A4\" :\n",
    "            timbre = 2.5*(self.poids/1000)\n",
    "        else:\n",
    "            timbre = 3.5*(self.poids/1000)\n",
    "        if self.modeLivraison==\"normal\":\n",
    "            return timbre\n",
    "        else :\n",
    "            return timbre*2\n",
    "    def ToString(self):\n",
    "        print(\"Lettre\")\n",
    "        print(\"Adresse destination: {}\".format(self.destination))\n",
    "        print(\"Adresse expedition: {}\".format(self.expedition))\n",
    "        print(\"Poids: {} grammes\".format(self.poids))\n",
    "        print(\"Mode: {}\".format(self.modeLivraison))\n",
    "        print(\"Format: {}\".format(self.formatCourrier))\n",
    "        print(\"Prix du timbre: {:.2f}\".format(self.prixLivraison())) \n",
    "        \n",
    "class Colis():\n",
    "    def __init__(self,destination,expedition,poids,modeLivraison,volume):\n",
    "        self.destination=destination\n",
    "        self.expedition=expedition\n",
    "        self.poids=poids\n",
    "        self.modeLivraison=modeLivraison\n",
    "        self.volume=volume\n",
    "    def prixLivraison(self):\n",
    "        # VOIR FORMULE CALCUL PRIX DU TIMBRE ERRONNEE\n",
    "        timbre = 0.25* self.volume + (self.poids/1000)\n",
    "        if self.modeLivraison==\"normal\":\n",
    "            return timbre\n",
    "        else :\n",
    "            return timbre*2\n",
    "    def ToString(self):\n",
    "        print(\"Colis\")\n",
    "        print(\"Adresse destination: {}\".format(self.destination))\n",
    "        print(\"Adresse expedition: {}\".format(self.expedition))\n",
    "        print(\"Poids: {} grammes\".format(self.poids))\n",
    "        print(\"Mode: {}\".format(self.modeLivraison))\n",
    "        print(\"Volume: {} litres\".format(self.volume))\n",
    "        print(\"Prix du timbre: {:.2f}\".format(self.prixLivraison())) "
   ]
  },
  {
   "cell_type": "code",
   "execution_count": 84,
   "metadata": {},
   "outputs": [
    {
     "name": "stdout",
     "output_type": "stream",
     "text": [
      "Lettre\n",
      "Adresse destination: Lille\n",
      "Adresse expedition: Paris\n",
      "Poids: 80 grammes\n",
      "Mode: normal\n",
      "Format: A4\n",
      "Prix du timbre: 0.20\n"
     ]
    }
   ],
   "source": [
    "L1=Lettre(\"Lille\",\"Paris\",80,\"normal\",\"A4\")\n",
    "L1.ToString()"
   ]
  },
  {
   "cell_type": "code",
   "execution_count": 90,
   "metadata": {},
   "outputs": [
    {
     "name": "stdout",
     "output_type": "stream",
     "text": [
      "Colis\n",
      "Adresse destination: Marrakeche\n",
      "Adresse expedition: Barcelone\n",
      "Poids: 3500 grammes\n",
      "Mode: express\n",
      "Volume: 2.25 litres\n",
      "Prix du timbre: 8.12\n"
     ]
    }
   ],
   "source": [
    "C1=Colis(\"Marrakeche\",\"Barcelone\",3500,\"express\",2.25)\n",
    "C1.ToString()"
   ]
  }
 ],
 "metadata": {
  "kernelspec": {
   "display_name": "Python 3",
   "language": "python",
   "name": "python3"
  },
  "language_info": {
   "codemirror_mode": {
    "name": "ipython",
    "version": 3
   },
   "file_extension": ".py",
   "mimetype": "text/x-python",
   "name": "python",
   "nbconvert_exporter": "python",
   "pygments_lexer": "ipython3",
   "version": "3.8.5"
  }
 },
 "nbformat": 4,
 "nbformat_minor": 4
}
