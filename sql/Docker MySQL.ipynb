{
 "cells": [
  {
   "cell_type": "markdown",
   "id": "convenient-diana",
   "metadata": {},
   "source": [
    "# Docker, MySQL, SQLAlchemy\n",
    "## Création d'un container Docker\n",
    "\n",
    "Création d'un Dockerfile :</br>\n",
    "\n",
    "``` dockerfile\n",
    "FROM mysql:latest\n",
    "\n",
    "ENV MYSQL_ROOT_PASSWORD motdepasse\n",
    "ENV MYSQL_DATABASE classicmodels\n",
    "ENV MYSQL_USER elisa\n",
    "ENV MYSQL_PASSWORD pass123\n",
    "\n",
    "EXPOSE 3306\n",
    "\n",
    "COPY bdd.sql /docker-entrypoint-initdb.d\n",
    "```\n",
    "\n",
    "- On récupère l'image officielle MySQL sur Docker hub. </br>\n",
    "- On crée la variable environnement pour le mot de passe de l'user root\n",
    "- On crée les variables envrionnement pour créer un utilisateur ayant des droits sur la database classicmodels et son mot de passe\n",
    "- On expose le port 3306, port par défaut MySQL\n",
    "- On copie la database en point d'entrée, la base de donnée sera intégrée au démarrage </br>\n",
    "\n",
    "Construction du container Docker:</br>\n",
    "On lance ensuite la construction de l'image puis du container Docker et on l'exécute :\n",
    "\n",
    "``` bash\n",
    "$ docker build -t mysql:1.0 .\n",
    "$ docker run -d -p 3306:3306 \n",
    "$ docker exec -it romantic_hopper mysql -uroot -p\n",
    "```\n",
    "\n",
    "Après avoir saisi son mot de passe, on est connecté au container.\n",
    "\n",
    "## Opérations sur la base de données\n",
    "### Sélectionner la base de données de travail :\n",
    "``` mysql\n",
    "mysql> show databases;\n",
    "mysql> use classicmodels;\n",
    "```\n",
    "Une fois les databases disponibles affichées, on choisit celle à utiliser pour les requêtes.\n",
    "### Afficher les tables de la base de données :\n",
    "``` mysql\n",
    "mysql> show tables;\n",
    "```\n",
    "Cette commande permet de visualiser toutes les tables contenues dans la base de données.\n",
    "### Afficher les utilisateurs\n",
    "``` mysql\n",
    "mysql> select host, user from mysql.user;\n",
    "```\n",
    "La liste des utilisateurs s'affiche avec l'hôte associé."
   ]
  },
  {
   "cell_type": "markdown",
   "id": "continental-reggae",
   "metadata": {},
   "source": []
  }
 ],
 "metadata": {
  "kernelspec": {
   "display_name": "Python 3",
   "language": "python",
   "name": "python3"
  },
  "language_info": {
   "codemirror_mode": {
    "name": "ipython",
    "version": 3
   },
   "file_extension": ".py",
   "mimetype": "text/x-python",
   "name": "python",
   "nbconvert_exporter": "python",
   "pygments_lexer": "ipython3",
   "version": "3.6.9"
  }
 },
 "nbformat": 4,
 "nbformat_minor": 5
}
