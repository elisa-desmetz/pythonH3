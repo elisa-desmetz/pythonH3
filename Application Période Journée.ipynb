{
 "cells": [
  {
   "cell_type": "markdown",
   "metadata": {},
   "source": [
    "##### Application : Gérer les cycles sur les périodes de la journée\n",
    "22h12-3h24 : Nuit\n",
    "3h25 - 16h12 : Matin\n",
    "16h13 - 22h11 : Après-Midi"
   ]
  },
  {
   "cell_type": "code",
   "execution_count": 68,
   "metadata": {},
   "outputs": [
    {
     "name": "stdout",
     "output_type": "stream",
     "text": [
      "Les minutes vont de 0 à 59\n",
      "Les heures vont de 0 à 23\n"
     ]
    }
   ],
   "source": [
    "data=pd.read_csv(\"https://bit.ly/felonies-dataset\")\n",
    "data.rename(columns={\"Date of Arrest\":\"DoA\"}, inplace=True)\n",
    "data['DoA']=pd.to_datetime(data['DoA'])\n",
    "print(\"Les minutes vont de\",\n",
    "      data['DoA'].dt.minute.min(),\n",
    "      \"à\",\n",
    "      data['DoA'].dt.minute.max())\n",
    "print(\"Les heures vont de\",\n",
    "      data['DoA'].dt.hour.min(),\n",
    "      \"à\",\n",
    "      data['DoA'].dt.hour.max())"
   ]
  },
  {
   "cell_type": "code",
   "execution_count": 69,
   "metadata": {},
   "outputs": [
    {
     "data": {
      "text/plain": [
       "0      1459\n",
       "1      2217\n",
       "2       931\n",
       "3       952\n",
       "4      1406\n",
       "       ... \n",
       "995    1424\n",
       "996    1803\n",
       "997    2159\n",
       "998    1716\n",
       "999    1829\n",
       "Name: DoA, Length: 1000, dtype: int64"
      ]
     },
     "execution_count": 69,
     "metadata": {},
     "output_type": "execute_result"
    }
   ],
   "source": [
    "coltemp_pj=data['DoA'].dt.hour*100+data['DoA'].dt.minute\n",
    "coltemp_pj"
   ]
  },
  {
   "cell_type": "code",
   "execution_count": 76,
   "metadata": {},
   "outputs": [
    {
     "name": "stdout",
     "output_type": "stream",
     "text": [
      "Valeurs manquantes  0\n"
     ]
    },
    {
     "data": {
      "text/plain": [
       "0       AM\n",
       "1    NUIT2\n",
       "2       AM\n",
       "3       AM\n",
       "4       AM\n",
       "Name: DoA, dtype: category\n",
       "Categories (4, object): ['NUIT' < 'AM' < 'PM' < 'NUIT2']"
      ]
     },
     "execution_count": 76,
     "metadata": {},
     "output_type": "execute_result"
    }
   ],
   "source": [
    "av_debut=0\n",
    "av_matin=324\n",
    "av_aprem=1612\n",
    "av_nuit=2211\n",
    "fin_jour=2360\n",
    "bins=[av_debut,av_matin,av_aprem,av_nuit,fin_jour]\n",
    "periodesJours=pd.cut(coltemp_pj,\n",
    "      bins=bins,\n",
    "      labels=['NUIT','AM','PM','NUIT2'],include_lowest=True)\n",
    "print(\"Valeurs manquantes \",periodesJours.isna().sum())\n",
    "periodesJours.head()"
   ]
  },
  {
   "cell_type": "code",
   "execution_count": 77,
   "metadata": {},
   "outputs": [
    {
     "data": {
      "text/plain": [
       "array(['AM', 'NUIT', 'PM'], dtype=object)"
      ]
     },
     "execution_count": 77,
     "metadata": {},
     "output_type": "execute_result"
    }
   ],
   "source": [
    "periodesJours=periodesJours.str.replace('2','')\n",
    "periodesJours.unique()"
   ]
  },
  {
   "cell_type": "code",
   "execution_count": 78,
   "metadata": {},
   "outputs": [
    {
     "data": {
      "text/plain": [
       "0      AM\n",
       "1    NUIT\n",
       "2      AM\n",
       "3      AM\n",
       "4      AM\n",
       "Name: DoA, dtype: category\n",
       "Categories (3, object): ['NUIT' < 'AM' < 'PM']"
      ]
     },
     "execution_count": 78,
     "metadata": {},
     "output_type": "execute_result"
    }
   ],
   "source": [
    "ordre=['NUIT', 'AM', 'PM']\n",
    "periodesJour=(periodesJours.astype('category').\n",
    "                        cat.reorder_categories(ordre).\n",
    "                        cat.as_ordered())\n",
    "periodesJour.head()"
   ]
  }
  ],
 "metadata": {
  "kernelspec": {
   "display_name": "Python 3",
   "language": "python",
   "name": "python3"
  },
  "language_info": {
   "codemirror_mode": {
    "name": "ipython",
    "version": 3
   },
   "file_extension": ".py",
   "mimetype": "text/x-python",
   "name": "python",
   "nbconvert_exporter": "python",
   "pygments_lexer": "ipython3",
   "version": "3.8.0"
  },
  "toc": {
   "base_numbering": 1,
   "nav_menu": {},
   "number_sections": true,
   "sideBar": true,
   "skip_h1_title": true,
   "title_cell": "Table of Contents",
   "title_sidebar": "Contents",
   "toc_cell": false,
   "toc_position": {
    "height": "calc(100% - 180px)",
    "left": "10px",
    "top": "150px",
    "width": "273.188px"
   },
   "toc_section_display": true,
   "toc_window_display": false
  },
  "varInspector": {
   "cols": {
    "lenName": 16,
    "lenType": 16,
    "lenVar": 40
   },
   "kernels_config": {
    "python": {
     "delete_cmd_postfix": "",
     "delete_cmd_prefix": "del ",
     "library": "var_list.py",
     "varRefreshCmd": "print(var_dic_list())"
    },
    "r": {
     "delete_cmd_postfix": ") ",
     "delete_cmd_prefix": "rm(",
     "library": "var_list.r",
     "varRefreshCmd": "cat(var_dic_list()) "
    }
   },
   "types_to_exclude": [
    "module",
    "function",
    "builtin_function_or_method",
    "instance",
    "_Feature"
   ],
   "window_display": false
  }
 },
 "nbformat": 4,
 "nbformat_minor": 4
}
